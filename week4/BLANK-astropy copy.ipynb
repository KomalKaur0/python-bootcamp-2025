{
 "cells": [
  {
   "cell_type": "markdown",
   "id": "4d3ab33b",
   "metadata": {},
   "source": [
    "# astropy and HR diagrams - BLANK\n",
    "welcome to week 4! this tutorial will walk you through creating your own HR diagram with real data!\n",
    "\n",
    "here are the overall steps we will follow to do this.\n",
    "1. download data\n",
    "2. set up notebook - import libraries and read in data\n",
    "3. sort data\n",
    "4. plot data"
   ]
  },
  {
   "cell_type": "markdown",
   "id": "9cf26424",
   "metadata": {},
   "source": [
    "**download data**\n",
    "\n",
    "will be using data from the MIST Track Interpolator for this tutorial. i have already generated the data for you, so you can download it from [here](https://drive.google.com/drive/folders/1VK02s6-oMZvxxx6AXui4Ec0NVZQtpa8f?usp=share_link). you will need to read the [MIST documentation](https://waps.cfa.harvard.edu/MIST/README_tables.pdf) to understand the structure of the dataset and how to use it."
   ]
  },
  {
   "cell_type": "markdown",
   "id": "0e4e6803",
   "metadata": {},
   "source": [
    "**import libraries**\n",
    "\n",
    "we will need astropy to process data, numpy to work with numbers, and matplotlib for plots"
   ]
  },
  {
   "cell_type": "code",
   "execution_count": null,
   "id": "d2bfc210",
   "metadata": {},
   "outputs": [],
   "source": [
    "from astropy.table import Table\n",
    "import numpy as np\n",
    "import matplotlib.pyplot as plt"
   ]
  },
  {
   "cell_type": "markdown",
   "id": "260b625b",
   "metadata": {},
   "source": [
    "**read in the datasets for each evolutionary track.** \n",
    "note that you may have to set the header_start parameter differently depending on how it was saved, so play around with it and check by printing the table to see that you've set it correctly"
   ]
  },
  {
   "cell_type": "code",
   "execution_count": null,
   "id": "2f8bd480",
   "metadata": {},
   "outputs": [],
   "source": [
    "low_mass_pathname = ''    # enter the pathname of where you stored the dataset EXACTLY\n",
    "low_mass = Table.read(low_mass_pathname, format='ascii', header_start=_____)\n",
    "low_mass"
   ]
  },
  {
   "cell_type": "code",
   "execution_count": null,
   "id": "a3170736",
   "metadata": {},
   "outputs": [],
   "source": [
    "high_mass_pathname = ''\n",
    "high_mass = Table.read(high_mass_pathname, format='ascii', header_start=_____)"
   ]
  },
  {
   "cell_type": "markdown",
   "id": "ec148d31",
   "metadata": {},
   "source": [
    "astropy.Table's colnames method makes it very easy to see the names of the columns without having to print the whole table"
   ]
  },
  {
   "cell_type": "code",
   "execution_count": null,
   "id": "313ef67a",
   "metadata": {
    "scrolled": true
   },
   "outputs": [],
   "source": [
    "print(low_mass.colnames)"
   ]
  },
  {
   "cell_type": "markdown",
   "id": "cb751c62",
   "metadata": {},
   "source": [
    "**create the plot.** remember we want to make an H-R diagram for both evolutionary tracks. we can differentiate them by using different line markers. we also want to color code for phase to see the end of the main sequence."
   ]
  },
  {
   "cell_type": "code",
   "execution_count": null,
   "id": "c703917f",
   "metadata": {},
   "outputs": [],
   "source": [
    "# start by filtering data for phase using numpy's 'where' method.\n",
    "    # phase equal to -1 are pre main sequence\n",
    "    # phase equal to 0 is main sequence\n",
    "    # phase greater than or equal to 2 is post main sequence\n",
    "\n",
    "low_mass_preMS = low_mass[np.where(low_mass['phase'] == _____)]\n",
    "low_mass_MS = low_mass[np.where(low_mass['phase'] == _____)]\n",
    "low_mass_postMS = low_mass[np.where(low_mass['phase'] >= _____)]\n",
    "\n",
    "high_mass_preMS = high_mass[np.where(high_mass['phase'] == _____)]\n",
    "high_mass_MS = high_mass[np.where(high_mass['phase'] == _____)]\n",
    "high_mass_postMS = high_mass[np.where(high_mass['phase'] >= _____)]\n",
    "\n",
    "# we now have six datasets to plot"
   ]
  },
  {
   "cell_type": "code",
   "execution_count": null,
   "id": "1a6eba9a",
   "metadata": {},
   "outputs": [],
   "source": [
    "fig, ax = plt.subplots() # this sets up a blank plot and gives us ways to work with it\n",
    "fig.set_figwidth(5), fig.set_figheight(5)\n",
    "\n",
    "# adding data from the low mass pre main sequence into the plot\n",
    "ax.scatter(low_mass_preMS['log_Teff'], low_mass_preMS['log_L'], marker='*', color='teal', label='low mass pre main sequence')\n",
    "\n",
    "# adding data from the low mass main sequence into the plot\n",
    "\n",
    "\n",
    "# adding data from the low mass post main sequence into the plot\n",
    "\n",
    "\n",
    "# adding data from the high mass pre main sequence into the plot\n",
    "\n",
    "\n",
    "# adding data from the high mass main sequence into the plot\n",
    "\n",
    "\n",
    "# adding data from the high mass post main sequence into the plot\n",
    "\n",
    "\n",
    "ax.legend(loc='best', fontsize=15) # this adds the legend to the plot at the location it sees fit\n",
    "fig.set_size_inches(18.5, 10.5) # this sets the size of the plot to help us see the data clearly\n",
    "\n",
    "# add title and axis labels\n",
    "ax.set_title('H-R diagram for low and high mass stars', fontsize=20)\n",
    "ax.set_xlabel('Log Effective Temperature [K]', fontsize=15)\n",
    "ax.set_ylabel(r'Log Bolometric Luminosity [$L_{\\odot}$]', fontsize=15)\n",
    "\n",
    "ax.tick_params(axis='both', which='major', labelsize=15)\n"
   ]
  },
  {
   "cell_type": "code",
   "execution_count": null,
   "id": "89a30e24",
   "metadata": {},
   "outputs": [],
   "source": []
  }
 ],
 "metadata": {
  "kernelspec": {
   "display_name": "base",
   "language": "python",
   "name": "python3"
  },
  "language_info": {
   "codemirror_mode": {
    "name": "ipython",
    "version": 3
   },
   "file_extension": ".py",
   "mimetype": "text/x-python",
   "name": "python",
   "nbconvert_exporter": "python",
   "pygments_lexer": "ipython3",
   "version": "3.12.2"
  }
 },
 "nbformat": 4,
 "nbformat_minor": 5
}
