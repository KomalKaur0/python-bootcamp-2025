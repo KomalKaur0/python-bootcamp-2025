{
 "cells": [
  {
   "cell_type": "markdown",
   "id": "d9d3fdda",
   "metadata": {},
   "source": [
    "# SOLN"
   ]
  },
  {
   "cell_type": "markdown",
   "id": "ae55d68d",
   "metadata": {},
   "source": [
    "# hello, welcome to this python walkthrough!"
   ]
  },
  {
   "cell_type": "markdown",
   "id": "dd799444",
   "metadata": {},
   "source": [
    "this walkthrough will go over some of the features of python's **turtle** and **math** libraries through an exercise of creating a model of the solar system. the CS knowledge that will be covered here includes **object-oriented programming** and basic GUI/visualization. background knowledge of this is not required. i am assuming you are comfortable working with libraries and basic python."
   ]
  },
  {
   "cell_type": "markdown",
   "id": "d79d52ab",
   "metadata": {},
   "source": [
    "## installing libraries\n",
    "\n",
    "make sure you have installed turtle and math by running the following in your command line:"
   ]
  },
  {
   "cell_type": "raw",
   "id": "2daa134a",
   "metadata": {},
   "source": [
    "pip install turtle"
   ]
  },
  {
   "cell_type": "raw",
   "id": "76105399",
   "metadata": {},
   "source": [
    "pip install math"
   ]
  },
  {
   "cell_type": "markdown",
   "id": "ccff6dd8",
   "metadata": {},
   "source": [
    "this walkthrough will have you work on the code in small chunks and then copy and paste your work into the final code cell to run the simulation."
   ]
  },
  {
   "cell_type": "markdown",
   "id": "35676225",
   "metadata": {},
   "source": [
    "## step 1: create the sun object\n",
    "\n",
    "first, what is an object?\n",
    "\n",
    "an object is a way for us to allocate memory to a blueprint of functions (methods) and variables (attributes). the blueprint is a *class* and when we create something using this blueprint, the new object is an *instance* of that class. [objects](https://en.wikipedia.org/wiki/Object_(computer_science)) are a useful tool for [abstraction](https://en.wikipedia.org/wiki/Abstraction_(computer_science)).\n",
    "\n",
    "for this simulation, the sun can be modeled using an object. this object will be an instance of the turtle class. this class as attributes of shape, color, etc. that we can modify. when we define them for the sun, they are instance attributes, not class attributes. \n",
    "\n",
    "fill in the code below to create the sun object.\n",
    "\n",
    "the first line creates a box in memory called \"sun\" and associates it to a new Turtle object. it does this by calling the turtle class's Turtle method, which creates a new object.\n",
    "\n",
    "the next lines assign values to the *class attribues* of shape and color. the sun object's *instance attributes* for shape and color should be 'circle' and 'yellow'"
   ]
  },
  {
   "cell_type": "raw",
   "id": "d94fb8b1",
   "metadata": {},
   "source": [
    "sun = turtle.Turtle()\n",
    "sun.shape(_______)\n",
    "sun.color(_______)"
   ]
  },
  {
   "cell_type": "markdown",
   "id": "f3d12eb7",
   "metadata": {},
   "source": [
    "## step 2: create the planet class\n",
    "\n",
    "we want to create a user-defined class to model planets. the sun was created without it's own class since there's just one. \n",
    "\n",
    "the __init__ function is called the **constructor** for the planet class. this is what python looks at when a new instance of the class is created. the first parameter is self, and the rest are free to define. we want planets to have distinct names, radii, and colors, so we will give those as parameters. \n",
    "\n",
    "notice that the first line in this function contains a call to super(). this is because the Planet class is actually a child class (or subclass) of the Turtle class (notice the parameter in the definition of the Planet class). calling super() accesses the parent class's definition of that function - in this case the constructor with the shape defined. notice how similar this is to the call to the Turtle class when we defined the sun object. this similarity is because both are calling the same Turtle constructor under the hood.   \n",
    "\n",
    "the rest of the lines set up how the constructor of the Planet class handles the args passed in as the name, radius, and color parameters. they assign these values to the *instance's* attributes (hence the use of the self keyword). \n",
    "\n",
    "the move function is a method of the Planet class that takes in no arguments (self doesn't count. python needs this reference to self to know which object to work on. self indicates the instance, not the class.). this defines how the planets should move around the sun based off of an attrubute called angle, which we will get to soon. (these will be circular orbits, not elliptical)\n",
    "\n",
    "i have included the code in the cell below."
   ]
  },
  {
   "cell_type": "raw",
   "id": "6cbb282c",
   "metadata": {},
   "source": [
    "class Planet(turtle.Turtle):\n",
    "    def __init__(self,name,radius, color):\n",
    "        super().__init__(shape='circle')\n",
    "        self.name = name\n",
    "        self.radius = radius\n",
    "        self.c = color\n",
    "        self.color(self.c)\n",
    "        self.up()\n",
    "        self.pd()\n",
    "        self.angle = 0\n",
    "    def move(self):\n",
    "        x = self.radius*cos(self.angle) # Angle in radians\n",
    "        y = self.radius*sin(self.angle)\n",
    " \n",
    "        self.goto(sun.xcor()+x,sun.ycor()+y)"
   ]
  },
  {
   "cell_type": "markdown",
   "id": "2317188b",
   "metadata": {},
   "source": [
    "## step 3: make the planets\n",
    "\n",
    "now you get to use the Planet class and construct the instances of that class to represent the planets!! i have not included any dwarf planets (im so sorry i love them i promise). they are left intentionally as an exercise for you to add in yourself if you want to. see me in office hours if you need help with this!\n",
    "\n",
    "fill in the args for color to your liking in the cell below. i have also included this [list of named colors](https://matplotlib.org/stable/gallery/color/named_colors.html), so have fun with this!\n",
    "\n",
    "disclaimer: the radii are kinda sorta to scale (AU * 10)\n",
    "\n",
    "fill in the blanks below"
   ]
  },
  {
   "cell_type": "raw",
   "id": "7026a33e",
   "metadata": {},
   "source": [
    "mercury = Planet(\"Mercury\", 4, '_____')\n",
    "venus = Planet(\"Venus\", 7, '_____')\n",
    "earth = Planet(\"Earth\", 10,'_____')\n",
    "mars = Planet(\"Mars\", 15, '_____')\n",
    "jupiter = Planet(\"Jupiter\", 52, '_____')\n",
    "saturn = Planet(\"Saturn\", 95, '_____')\n",
    "uranus = Planet(\"Uranus\", 190, '_____')\n",
    "neptune = Planet(\"Neptune\", 300, '_____')"
   ]
  },
  {
   "cell_type": "markdown",
   "id": "e4a32127",
   "metadata": {},
   "source": [
    "## step 4: add the planets into a list\n",
    "\n",
    "this list of Planet instances will be handy in a while loop that runs the simulation. fill in the blanks below."
   ]
  },
  {
   "cell_type": "raw",
   "id": "1e957296",
   "metadata": {},
   "source": [
    "planet_list = [_____]"
   ]
  },
  {
   "cell_type": "markdown",
   "id": "2723f404",
   "metadata": {},
   "source": [
    "## step 5: run the simulation\n",
    "\n",
    "the whole simulation is run on a while loop. while true, the screen is continually updated with a call to screen.update(). this update method is a method of the Turtle class. the while loop updates each of the angles for the planets in the list by incrementing them by a certain number in radians and calling the Planet class's move method. the radians are updated according to [this chart](https://astronomy.stackexchange.com/questions/49155/angular-velocity-of-planets-around-earth-and-sun) scaled by $10^6$. fill in the blank below."
   ]
  },
  {
   "cell_type": "raw",
   "id": "87f9105b",
   "metadata": {},
   "source": [
    "while _____:\n",
    "    screen.update()\n",
    "    for i in planet_list:\n",
    "        i.move()\n",
    " \n",
    "    mercury.angle += 0.83\n",
    "    venus.angle += 0.32\n",
    "    earth.angle += 0.19\n",
    "    mars.angle += 0.1\n",
    "    jupiter.angle += 0.017\n",
    "    saturn.angle += 0.0093\n",
    "    uranus.angle += 0.0024\n",
    "    neptune.angle += 0.0012"
   ]
  },
  {
   "cell_type": "markdown",
   "id": "99f8145f",
   "metadata": {},
   "source": [
    "## step 6: copy and paste\n",
    "paste the code from the steps above into the spaces indicated below. then, you can run the code to see your work!"
   ]
  },
  {
   "cell_type": "code",
   "execution_count": null,
   "id": "0401225f",
   "metadata": {},
   "outputs": [],
   "source": [
    "import turtle\n",
    "from math import *\n",
    "\n",
    "# start the GUI\n",
    "screen = turtle.Screen()\n",
    "screen.tracer(150)\n",
    "\n",
    "# create the sun object\n",
    "# paste your code from step 1 below\n",
    "sun = turtle.Turtle()\n",
    "sun.shape('circle')\n",
    "sun.color('yellow')\n",
    "\n",
    "# defining the planet class\n",
    "# paste the provided code from step 2 below\n",
    "class Planet(turtle.Turtle):\n",
    "    def __init__(self,name,radius, color):\n",
    "        super().__init__(shape='circle')\n",
    "        self.name = name\n",
    "        self.radius = radius\n",
    "        self.c = color\n",
    "        self.color(self.c)\n",
    "        self.up()\n",
    "        self.pd()\n",
    "        self.angle = 0\n",
    "    def move(self):\n",
    "        x = self.radius*cos(self.angle) \n",
    "        y = self.radius*sin(self.angle)\n",
    " \n",
    "        self.goto(sun.xcor()+x,sun.ycor()+y)\n",
    "    \n",
    "    \n",
    "# making planets\n",
    "# paste your code from step 3 below\n",
    "mercury = Planet(\"Mercury\", 4, 'grey')\n",
    "venus = Planet(\"Venus\", 7, 'red')\n",
    "earth = Planet(\"Earth\", 10,'blue')\n",
    "mars = Planet(\"Mars\", 15, 'red')\n",
    "jupiter = Planet(\"Jupiter\", 52, 'orange')\n",
    "saturn = Planet(\"Saturn\", 95, 'brown')\n",
    "uranus = Planet(\"Uranus\", 190, 'green')\n",
    "neptune = Planet(\"Neptune\", 300, 'blue')\n",
    " \n",
    "# add the planets to a list\n",
    "# paste your code from step 4 below\n",
    "planet_list = [mercury, venus, earth, mars, jupiter, saturn, uranus, neptune]\n",
    "\n",
    "# run the simulation\n",
    "# paste your code from step 5\n",
    "while True:\n",
    "    screen.update()\n",
    "    for i in planet_list:\n",
    "        i.move()\n",
    " \n",
    "    mercury.angle += 0.83\n",
    "    venus.angle += 0.32\n",
    "    earth.angle += 0.19\n",
    "    mars.angle += 0.1\n",
    "    jupiter.angle += 0.017\n",
    "    saturn.angle += 0.0093\n",
    "    uranus.angle += 0.0024\n",
    "    neptune.angle += 0.0012"
   ]
  },
  {
   "cell_type": "markdown",
   "id": "c2318e40",
   "metadata": {},
   "source": [
    "guide created by Komal Kaur, adapted from [Python Geeks](https://pythongeeks.org/visualize-a-solar-system-with-python/)"
   ]
  }
 ],
 "metadata": {
  "kernelspec": {
   "display_name": "base",
   "language": "python",
   "name": "python3"
  },
  "language_info": {
   "codemirror_mode": {
    "name": "ipython",
    "version": 3
   },
   "file_extension": ".py",
   "mimetype": "text/x-python",
   "name": "python",
   "nbconvert_exporter": "python",
   "pygments_lexer": "ipython3",
   "version": "3.12.2"
  }
 },
 "nbformat": 4,
 "nbformat_minor": 5
}
