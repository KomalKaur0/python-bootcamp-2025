{
 "cells": [
  {
   "cell_type": "markdown",
   "id": "3ab9def7",
   "metadata": {},
   "source": [
    "# BLANK\n",
    "welcome to the last python workshop of this series! we will be talking about HAPI (Heliophysics Data Application Programmer's Interface). [here](http://hapi-server.org) is their website if you're curious. HAPI allowes you to pull data from missions and other sources. \n",
    "\n",
    "## setup\n",
    "\n",
    "run `pip install hapiclient` and `pip install hapiplot` in your terminal\n"
   ]
  },
  {
   "cell_type": "code",
   "execution_count": null,
   "id": "cf470a1f",
   "metadata": {},
   "outputs": [],
   "source": [
    "from hapiclient import hapi\n",
    "from hapiplot import hapiplot"
   ]
  },
  {
   "cell_type": "code",
   "execution_count": null,
   "id": "b8865729",
   "metadata": {},
   "outputs": [],
   "source": [
    "help(hapi)"
   ]
  },
  {
   "cell_type": "code",
   "execution_count": null,
   "id": "3cdccc46",
   "metadata": {},
   "outputs": [],
   "source": [
    "help(hapiplot)"
   ]
  },
  {
   "cell_type": "markdown",
   "id": "ddba670b",
   "metadata": {},
   "source": [
    "## data\n",
    "\n",
    "let's look at an event from 10/28/2021 15:35 UTC. there was an X1 flare and CME. let's get some data and see what it looks like.\n",
    "data comes as an `ndarray` of single continous stream of time series data."
   ]
  },
  {
   "cell_type": "code",
   "execution_count": null,
   "id": "7e6ce0ec",
   "metadata": {},
   "outputs": [],
   "source": [
    "\n",
    "server = 'https://cdaweb.gsfc.nasa.gov/hapi'\n",
    "dataset = 'OMNI2_H0_MRG1HR'\n",
    "\n",
    "start = '2021-10-25T00:00:00Z'\n",
    "stop = '2021-12-01T00:00:00Z'\n",
    "\n",
    "parameters = 'DST1800,Proton_QI1800'    # convention to get parameters from hapi\n",
    "\n",
    "opts = {'logging': True, 'usecache': True, 'cachedir': './hapicache' }\n",
    "\n",
    "# get the data and metadata\n",
    "data, meta = hapi(server, dataset, parameters, start, stop, **opts)\n"
   ]
  },
  {
   "cell_type": "code",
   "execution_count": null,
   "id": "5141bb74",
   "metadata": {},
   "outputs": [],
   "source": [
    "display(meta)"
   ]
  },
  {
   "cell_type": "markdown",
   "id": "bf52a322",
   "metadata": {},
   "source": [
    "## plotting\n",
    "\n",
    "now that we have data, we need to make plots to see what it looks like. we will use `hapiplot` instead of `matplotlib`."
   ]
  },
  {
   "cell_type": "code",
   "execution_count": null,
   "id": "62ee313d",
   "metadata": {},
   "outputs": [],
   "source": [
    "hapiplot(data, meta)\n"
   ]
  },
  {
   "cell_type": "markdown",
   "id": "03f7e319",
   "metadata": {},
   "source": [
    "tutorial created by Komal Kaur, adapted from [PyHC](https://github.com/heliophysicsPy/summer-school-24/tree/main/hapi-tutorial)"
   ]
  }
 ],
 "metadata": {
  "kernelspec": {
   "display_name": "base",
   "language": "python",
   "name": "python3"
  },
  "language_info": {
   "codemirror_mode": {
    "name": "ipython",
    "version": 3
   },
   "file_extension": ".py",
   "mimetype": "text/x-python",
   "name": "python",
   "nbconvert_exporter": "python",
   "pygments_lexer": "ipython3",
   "version": "3.12.2"
  }
 },
 "nbformat": 4,
 "nbformat_minor": 5
}
