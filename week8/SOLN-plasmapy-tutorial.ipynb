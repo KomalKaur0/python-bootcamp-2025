{
 "cells": [
  {
   "cell_type": "markdown",
   "id": "f162d01a",
   "metadata": {},
   "source": [
    "# SOLN - plasmapy tutorial\n",
    "\n",
    "welcome to week 8! we will be exploring a bit of plasmapy. plasmapy is an open source python package designed for plasma research.\n",
    "\n",
    "for this tutorial you will need to run `pip install plasmapy` in your terminal."
   ]
  },
  {
   "cell_type": "code",
   "execution_count": null,
   "id": "0184d908",
   "metadata": {},
   "outputs": [],
   "source": [
    "# imports\n",
    "import numpy as np\n",
    "import astropy.units as u\n",
    "from astropy import constants as const\n",
    "import plasmapy.particles as partcls    # basic particle data, classes to represent particles\n"
   ]
  },
  {
   "cell_type": "markdown",
   "id": "040365d8",
   "metadata": {},
   "source": [
    "let's explore what's available with `plasmapy.particles` "
   ]
  },
  {
   "cell_type": "code",
   "execution_count": null,
   "id": "55f9aca0",
   "metadata": {},
   "outputs": [
    {
     "data": {
      "text/plain": [
       "26"
      ]
     },
     "execution_count": 4,
     "metadata": {},
     "output_type": "execute_result"
    }
   ],
   "source": [
    "# atomic number as an int given a string\n",
    "partcls.atomic_number('Fe')\n"
   ]
  },
  {
   "cell_type": "code",
   "execution_count": null,
   "id": "0093f9d5",
   "metadata": {},
   "outputs": [
    {
     "data": {
      "text/plain": [
       "'silver'"
      ]
     },
     "execution_count": 5,
     "metadata": {},
     "output_type": "execute_result"
    }
   ],
   "source": [
    "# element name as a string given a string\n",
    "partcls.element_name('Ag')\n"
   ]
  },
  {
   "cell_type": "code",
   "execution_count": null,
   "id": "45c6d137",
   "metadata": {},
   "outputs": [
    {
     "data": {
      "text/plain": [
       "'francium'"
      ]
     },
     "execution_count": 6,
     "metadata": {},
     "output_type": "execute_result"
    }
   ],
   "source": [
    "# element name as a string given an int\n",
    "partcls.element_name(87)\n"
   ]
  },
  {
   "cell_type": "code",
   "execution_count": null,
   "id": "bd379629",
   "metadata": {},
   "outputs": [
    {
     "name": "stdout",
     "output_type": "stream",
     "text": [
      "\u001b[0;31mSignature:\u001b[0m \u001b[0mpartcls\u001b[0m\u001b[0;34m.\u001b[0m\u001b[0melement_name\u001b[0m\u001b[0;34m(\u001b[0m\u001b[0melement\u001b[0m\u001b[0;34m:\u001b[0m \u001b[0mplasmapy\u001b[0m\u001b[0;34m.\u001b[0m\u001b[0mparticles\u001b[0m\u001b[0;34m.\u001b[0m\u001b[0mparticle_class\u001b[0m\u001b[0;34m.\u001b[0m\u001b[0mParticle\u001b[0m\u001b[0;34m)\u001b[0m \u001b[0;34m->\u001b[0m \u001b[0mstr\u001b[0m\u001b[0;34m\u001b[0m\u001b[0;34m\u001b[0m\u001b[0m\n",
      "\u001b[0;31mDocstring:\u001b[0m\n",
      "Return the name of an element.\n",
      "\n",
      "Parameters\n",
      "----------\n",
      "element : |atom-like|\n",
      "    A `str` representing an element, isotope, or ion or an\n",
      "    `int` representing an atomic number\n",
      "\n",
      "Returns\n",
      "-------\n",
      "`str`\n",
      "    The name of the element.\n",
      "\n",
      "Raises\n",
      "------\n",
      "`~plasmapy.particles.exceptions.InvalidElementError`\n",
      "    If the argument is a valid particle but not a valid element.\n",
      "\n",
      "`~plasmapy.particles.exceptions.InvalidParticleError`\n",
      "    If the argument does not correspond to a valid particle.\n",
      "\n",
      "See Also\n",
      "--------\n",
      "atomic_symbol\n",
      "isotope_symbol\n",
      "ionic_symbol\n",
      "particle_symbol\n",
      "\n",
      "Examples\n",
      "--------\n",
      ">>> element_name(\"H\")\n",
      "'hydrogen'\n",
      ">>> element_name(\"T\")\n",
      "'hydrogen'\n",
      ">>> element_name(\"alpha\")\n",
      "'helium'\n",
      ">>> element_name(42)\n",
      "'molybdenum'\n",
      ">>> element_name(\"C-12\")\n",
      "'carbon'\n",
      "\u001b[0;31mFile:\u001b[0m      ~/miniconda3/lib/python3.12/site-packages/plasmapy/particles/symbols.py\n",
      "\u001b[0;31mType:\u001b[0m      FunctionWrapper"
     ]
    }
   ],
   "source": [
    "# here's a cool trick: i want to know more about a function so i can do this\n",
    "partcls.element_name?\n"
   ]
  },
  {
   "cell_type": "code",
   "execution_count": null,
   "id": "968a3225",
   "metadata": {},
   "outputs": [
    {
     "data": {
      "text/latex": [
       "$-1.6021766 \\times 10^{-19} \\; \\mathrm{C}$"
      ],
      "text/plain": [
       "<Quantity -1.60217663e-19 C>"
      ]
     },
     "execution_count": 12,
     "metadata": {},
     "output_type": "execute_result"
    }
   ],
   "source": [
    "# more cool functions\n",
    "partcls.is_stable('proton') # bool given str or int\n",
    "partcls.electric_charge('e-')   # quantity given str (quantity is a number with units)"
   ]
  },
  {
   "cell_type": "markdown",
   "id": "9404e6ef",
   "metadata": {},
   "source": [
    "now that we have an idea of how this can work, let's make some particles. sounds like OOP to me (go back to the OOP tutorial if you need a refresher)"
   ]
  },
  {
   "cell_type": "code",
   "execution_count": null,
   "id": "18bb7c6c",
   "metadata": {},
   "outputs": [
    {
     "data": {
      "text/plain": [
       "1"
      ]
     },
     "execution_count": 13,
     "metadata": {},
     "output_type": "execute_result"
    }
   ],
   "source": [
    "# object instantiation\n",
    "proton = partcls.Particle('p+')\n",
    "electron = partcls.Particle('e-')\n",
    "\n",
    "# view object attributes\n",
    "proton.charge\n",
    "electron.mass\n",
    "\n",
    "# bored with regular matter?\n",
    "positron = electron.antiparticle\n",
    "antiproton = ~proton\n"
   ]
  },
  {
   "cell_type": "markdown",
   "id": "d0d51c97",
   "metadata": {},
   "source": [
    "make the matter do stuff!"
   ]
  },
  {
   "cell_type": "code",
   "execution_count": null,
   "id": "fa9c69b1",
   "metadata": {},
   "outputs": [
    {
     "data": {
      "text/plain": [
       "True"
      ]
     },
     "execution_count": 23,
     "metadata": {},
     "output_type": "execute_result"
    }
   ],
   "source": [
    "# ionize neutral H\n",
    "hydrogen = partcls.Particle(1, Z=0)\n",
    "ionized = hydrogen.ionize()\n",
    "ionized.charge_number == 1  # should return True\n"
   ]
  },
  {
   "cell_type": "markdown",
   "id": "8c8aab81",
   "metadata": {},
   "source": [
    "custom particles"
   ]
  },
  {
   "cell_type": "code",
   "execution_count": 26,
   "id": "22cb68dc",
   "metadata": {},
   "outputs": [],
   "source": [
    "mass = 1.79e-15 * u.kg    # must be a quantity\n",
    "Z = 0\n",
    "symbol = 'Ag'\n",
    "my_particle = partcls.CustomParticle(mass=mass, Z=Z, symbol=symbol)\n"
   ]
  },
  {
   "cell_type": "markdown",
   "id": "2f8bcc97",
   "metadata": {},
   "source": [
    "simulate a nuclear reaction"
   ]
  },
  {
   "cell_type": "code",
   "execution_count": null,
   "id": "5f77bea9",
   "metadata": {},
   "outputs": [],
   "source": [
    "# particles we need\n",
    "deuteron = partcls.Particle('D+')\n",
    "triton = partcls.Particle('T+')\n",
    "alpha = partcls.Particle('α')\n",
    "neutron = partcls.Particle('n')\n"
   ]
  },
  {
   "cell_type": "code",
   "execution_count": 30,
   "id": "0478d70c",
   "metadata": {},
   "outputs": [
    {
     "data": {
      "text/latex": [
       "$17589253 \\; \\mathrm{eV}$"
      ],
      "text/plain": [
       "<Quantity 17589252.75551564 eV>"
      ]
     },
     "execution_count": 30,
     "metadata": {},
     "output_type": "execute_result"
    }
   ],
   "source": [
    "# run the reaction\n",
    "E = deuteron + triton > alpha + neutron\n",
    "E # this is in joules\n",
    "E.to('eV')"
   ]
  },
  {
   "cell_type": "markdown",
   "id": "833299d6",
   "metadata": {},
   "source": [
    "walkthrough created by Komal Kaur, adapted from PyHC 2024 summer school plasmapy tutorial"
   ]
  }
 ],
 "metadata": {
  "kernelspec": {
   "display_name": "base",
   "language": "python",
   "name": "python3"
  },
  "language_info": {
   "codemirror_mode": {
    "name": "ipython",
    "version": 3
   },
   "file_extension": ".py",
   "mimetype": "text/x-python",
   "name": "python",
   "nbconvert_exporter": "python",
   "pygments_lexer": "ipython3",
   "version": "3.12.2"
  }
 },
 "nbformat": 4,
 "nbformat_minor": 5
}
