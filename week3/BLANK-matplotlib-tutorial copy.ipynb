{
 "cells": [
  {
   "cell_type": "markdown",
   "id": "d4710386",
   "metadata": {},
   "source": [
    "# matplotlib tutorial - BLANK\n",
    "welcome to week 3! let's look at how to plot data. we will cover a few different types of plots as well as how to make good plots for papers and posters. as always, there is much more you can do with this than what i can cover so i encourage you to look up the documentation and learn more."
   ]
  },
  {
   "cell_type": "markdown",
   "id": "d8de5313",
   "metadata": {},
   "source": [
    "let's begin by importing libraries to help us get things done. matplotlib is for plots and numpy helps us work with the numbers that go in to the plots."
   ]
  },
  {
   "cell_type": "markdown",
   "id": "3fbce669",
   "metadata": {},
   "source": [
    "if you do not have these installed, run `pip install matplotlib` and `pip install numpy` in your command line."
   ]
  },
  {
   "cell_type": "code",
   "execution_count": null,
   "id": "fce5f2f3",
   "metadata": {},
   "outputs": [],
   "source": [
    "# imports\n",
    "import matplotlib.pyplot as plt\n",
    "import numpy as np\n"
   ]
  },
  {
   "cell_type": "markdown",
   "id": "b45a0c4d",
   "metadata": {},
   "source": [
    "we need some data to plot. my x data will be random sorted numbers and i want y to be a quadratic function of those numbers. then, i want z data to be a quadratic on y."
   ]
  },
  {
   "cell_type": "code",
   "execution_count": null,
   "id": "da53d7a3",
   "metadata": {},
   "outputs": [],
   "source": [
    "# data\n",
    "x = np.sort(np.random.randint(low=1, high=100, size=100))   # 100 random numbers between 1 and 100 in increasing order \n",
    "y = 100/np.sort(np.random.randint(low=1, high=100, size=100)) + np.random.randint(10, size=100)    # applying 2x^2+2x+2 to x and adding some variation\n",
    "xx, yy = np.meshgrid(x, y)  # makes a matrix out x and y\n",
    "z = np.sqrt(xx/yy)   # z as a function of x and y\n"
   ]
  },
  {
   "cell_type": "markdown",
   "id": "1dfe7352",
   "metadata": {},
   "source": [
    "## basic plots\n",
    "\n",
    "explore what plt can do. examine the shapes (dimensions) of your data arrays. try to make some line plots, scatter plots, histograms, etc. use different data arrays and learn about your data. \n",
    "\n",
    "often, you learn best by just messing around with the tools you have. this process of messing around and examining data helps you to see if there are any unexpected anomalies, missing data chunks, faults in data collected, etc and helps expose issues sooner rather than later."
   ]
  },
  {
   "cell_type": "code",
   "execution_count": null,
   "id": "43cd50a8",
   "metadata": {},
   "outputs": [],
   "source": [
    "# basic plot\n",
    "ax = plt.plot(___, ___)"
   ]
  },
  {
   "cell_type": "code",
   "execution_count": null,
   "id": "a8a7cd2b",
   "metadata": {},
   "outputs": [],
   "source": [
    "# scatter plot\n",
    "ax = plt.scatter(___, ___)"
   ]
  },
  {
   "cell_type": "code",
   "execution_count": null,
   "id": "097fd380",
   "metadata": {},
   "outputs": [],
   "source": [
    "# histogram\n",
    "ax = plt.hist(___, bins=___)"
   ]
  },
  {
   "cell_type": "markdown",
   "id": "57957706",
   "metadata": {},
   "source": [
    "## 3D plots\n",
    "so far these plots can only look at two dimensions at a time. we have 3D data, so we can use color to represent a third dimension."
   ]
  },
  {
   "cell_type": "code",
   "execution_count": null,
   "id": "5bd62bb8",
   "metadata": {},
   "outputs": [],
   "source": [
    "ax = plt.imshow(z, cmap='plasma', extent=[np.min(x), np.max(x), np.min(y), np.max(y)], origin='lower', aspect='auto')\n",
    "cb = ax.colorbar\n"
   ]
  },
  {
   "cell_type": "markdown",
   "id": "6278e8d1",
   "metadata": {},
   "source": [
    "## making nicer plots for papers and posters\n",
    "plots are VERY important in the world of science writing. make sure yours look good and communicate your hard work effectively. \n",
    "\n",
    "things to consider in plots:\n",
    "- whitespace vs chaos - too much of either is a bad thing\n",
    "- clarity of what you're showing\n",
    "- readibility - think about fontsize, tick size, colors, etc"
   ]
  },
  {
   "cell_type": "code",
   "execution_count": null,
   "id": "05777bcf",
   "metadata": {},
   "outputs": [],
   "source": [
    "# example plot for y vs x data\n",
    "fig, ax = plt.subplots()    # using subplots gives me more control in case i want to add more plots to this later\n",
    "ax.plot(x, y, color='red', label='y data', linewidth=3)  # plot the data with a color and label\n",
    "ax.set_title('y vs x', font='times new roman', fontsize='25')\n",
    "ax.set_ylabel('y axis', font='times new roman', fontsize='20')\n",
    "ax.set_xlabel('x axis', font='times new roman', fontsize='20')\n",
    "ax.tick_params(axis='both', which='major', direction='inout', labelsize=15, labelfontfamily='serif')\n",
    "plt.legend(loc='best', prop={'family': 'Times New Roman', 'size':15})  # place the legend\n"
   ]
  },
  {
   "cell_type": "markdown",
   "id": "ad6d18ac",
   "metadata": {},
   "source": [
    "you can see here that this plot is much nicer than the default plot we saw above. this type of plot is much better suited for a paper since it is much more readable. the additional arguments passed in to customize the plots are not the only ones available! look up what else you can do with plt - you can make some really pretty plots to impress your readers."
   ]
  },
  {
   "cell_type": "markdown",
   "id": "b25da10b",
   "metadata": {},
   "source": [
    "`plt.subplots` makes a grid of plots and you can make a plot in each grid box. it also takes in the following:\n",
    "- `nrows`: set the number of rows in the grid of plots (default is 1)\n",
    "- `ncols`: set the number of columns in the grid of plots (default is 1)\n",
    "\n",
    "use this information to make a side-by-side view of **y vs x** and **z vs x** in the fill-in-the-blank cell below."
   ]
  },
  {
   "cell_type": "code",
   "execution_count": null,
   "id": "ade4cc0e",
   "metadata": {},
   "outputs": [],
   "source": [
    "# create the 'grid' for your plots\n",
    "fig, (ax1, ax2) = plt.subplots(nrows=___, ncols=___)\n",
    "fig.subplots_adjust(hspace=___, wspace=___) # play with these paramters if plots overlap\n",
    "fig.suptitle('data side-by-side', font='___', fontsize=___)\n",
    "\n",
    "# create the first plot: y vs x\n",
    "ax1.plot(___, ___, color='___', linewidth=___)  # plot the data on ax1\n",
    "ax1.set_title('y vs x', font='___', fontsize=___)\n",
    "ax1.set_ylabel('y axis', font='___', fontsize=___)\n",
    "ax1.set_xlabel('x axis', font='___', fontsize=___)\n",
    "ax1.tick_params(axis='both', which='major', direction='___', labelsize=___, labelfontfamily='___')\n",
    "\n",
    "# create the second plot: z vs x\n",
    "ax2.plot(___, np.mean(z, axis=0), color='blue', label='z data', linewidth=3)   # taking the mean of x - remember the shapes of the data arrays?\n",
    "ax2.set_title('z vs x', font='___', fontsize=___)\n",
    "ax2.set_ylabel('y axis', font='___', fontsize=___)\n",
    "ax2.set_xlabel('x axis', font='___', fontsize=___)\n",
    "ax2.tick_params(axis='both', which='major', direction='___', labelsize=___, labelfontfamily='___')\n"
   ]
  },
  {
   "cell_type": "markdown",
   "id": "f676c530",
   "metadata": {},
   "source": [
    "you can also condense these two into a single plot. either way is valid, just choose what makes the most sense for what you are doing. let's try it!"
   ]
  },
  {
   "cell_type": "code",
   "execution_count": null,
   "id": "a3c730cb",
   "metadata": {},
   "outputs": [],
   "source": [
    "fig, ax = plt.subplots()\n",
    "ax.plot(x, y, color='red', label='y data', linewidth=3)\n",
    "ax.plot(x, np.mean(z, axis=0), color='blue', label='z data', linewidth=3)   # taking the mean of x - remember the shapes of the data arrays?\n",
    "ax.set_title('y and z vs x', font='times new roman', fontsize='25')\n",
    "ax.set_ylabel('y axis', font='times new roman', fontsize='20')\n",
    "ax.set_xlabel('x axis', font='times new roman', fontsize='20')\n",
    "ax.tick_params(axis='both', which='major', direction='inout', labelsize=15, labelfontfamily='serif')\n",
    "plt.legend(loc='best', prop={'family': 'Times New Roman', 'size':15})  # place the legend (this time it's actually important)\n"
   ]
  },
  {
   "cell_type": "markdown",
   "id": "720347d1",
   "metadata": {},
   "source": [
    "time for you to try something on your own!\n",
    "\n",
    "try to make the same imshow plot from before look good for a paper. make sure that everything is visible and clearly communicated. \n",
    "\n",
    "this may seem like a daunting task, but take the leap of faith and look up how to do things! this is an essential part of writing software - you won't always have the answers and you'll have to figure things out yourself. \n",
    "\n",
    "let's come back together in about 10 minutes and compare our plots. as always, please ask questions and collaborate with your peers."
   ]
  },
  {
   "cell_type": "code",
   "execution_count": null,
   "id": "2c632e44",
   "metadata": {},
   "outputs": [],
   "source": [
    "# YOUR CODE HERE\n"
   ]
  },
  {
   "cell_type": "markdown",
   "id": "5cdf1db5",
   "metadata": {},
   "source": [
    "tutorial created by Komal Kaur"
   ]
  }
 ],
 "metadata": {
  "kernelspec": {
   "display_name": "base",
   "language": "python",
   "name": "python3"
  },
  "language_info": {
   "codemirror_mode": {
    "name": "ipython",
    "version": 3
   },
   "file_extension": ".py",
   "mimetype": "text/x-python",
   "name": "python",
   "nbconvert_exporter": "python",
   "pygments_lexer": "ipython3",
   "version": "3.12.2"
  }
 },
 "nbformat": 4,
 "nbformat_minor": 5
}
