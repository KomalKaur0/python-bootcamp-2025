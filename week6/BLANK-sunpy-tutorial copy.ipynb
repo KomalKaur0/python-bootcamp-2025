{
 "cells": [
  {
   "cell_type": "markdown",
   "id": "202ee573",
   "metadata": {},
   "source": [
    "# BLANK - sunpy tutorial"
   ]
  },
  {
   "cell_type": "markdown",
   "id": "7037dd3b",
   "metadata": {},
   "source": [
    "this tutorial will walk through two applications of sunpy: data tools and coordinates"
   ]
  },
  {
   "cell_type": "markdown",
   "id": "412e1231",
   "metadata": {},
   "source": [
    "run `conda install sunpy` in your terminal first"
   ]
  },
  {
   "cell_type": "markdown",
   "id": "da6a631b",
   "metadata": {},
   "source": [
    "### data!"
   ]
  },
  {
   "cell_type": "markdown",
   "id": "cefc2db8",
   "metadata": {},
   "source": [
    "data tools - search and download with Fido\n",
    "- Fido is the sunpy software interface and allows you to make data queries\n",
    "- the `attrs` (read: atributes) submodule is how data is searched. attributes can be combined to build queries"
   ]
  },
  {
   "cell_type": "code",
   "execution_count": null,
   "id": "ab18ac02",
   "metadata": {},
   "outputs": [],
   "source": [
    "from sunpy.net import Fido, attrs as a\n",
    "from astropy import units as u"
   ]
  },
  {
   "cell_type": "code",
   "execution_count": null,
   "id": "53b53de9",
   "metadata": {},
   "outputs": [],
   "source": [
    "Fido"
   ]
  },
  {
   "cell_type": "markdown",
   "id": "9ff75aee",
   "metadata": {},
   "source": [
    "the main attributes in the `attrs` submodule are time, instrument, and wavelength"
   ]
  },
  {
   "cell_type": "code",
   "execution_count": null,
   "id": "3b5df93c",
   "metadata": {},
   "outputs": [],
   "source": [
    "a.Time"
   ]
  },
  {
   "cell_type": "code",
   "execution_count": null,
   "id": "07147a36",
   "metadata": {},
   "outputs": [],
   "source": [
    "a.Instrument"
   ]
  },
  {
   "cell_type": "code",
   "execution_count": null,
   "id": "e7962f0c",
   "metadata": {},
   "outputs": [],
   "source": [
    "a.Wavelength    # add units to this tool with astropy's units module"
   ]
  },
  {
   "cell_type": "markdown",
   "id": "01bb4806",
   "metadata": {},
   "source": [
    "Fido can use attributes to search for data with `Fido.search`. these results are a `UnifiedResponse` object and can be handed to `Fido.fetch` to download the data.\n",
    "\n",
    "let's try an example. construct a query to find data from june 15, 2025 between 1:00 and 1:15 pm from the Atmospheric Imaging Assembly (AIA) with a wavelength of 171 Angstrom. i don't want every single data point, i only want one for each minute of the instrument's observation (sample rate of one minute)"
   ]
  },
  {
   "cell_type": "code",
   "execution_count": null,
   "id": "1ff1cc6a",
   "metadata": {},
   "outputs": [],
   "source": [
    "start = '2025-06-15 13:00'\n",
    "end = '___'\n",
    "wav = ___*u.angstrom\n",
    "samp = 1*___\n",
    "\n",
    "times = a.Time(start, end)\n",
    "instrmt = a.Instrument('___')    # fill this in from the options of instruments returned by `a.Instruments`\n",
    "wavelen = a.Wavelength(___)\n",
    "samp_rate = a.Sample(___)\n",
    "\n",
    "res = Fido.search(times, instrmt, wavelen, samp_rate)\n"
   ]
  },
  {
   "cell_type": "code",
   "execution_count": null,
   "id": "ab6788e7",
   "metadata": {},
   "outputs": [],
   "source": [
    "res"
   ]
  },
  {
   "cell_type": "code",
   "execution_count": null,
   "id": "a34169e5",
   "metadata": {},
   "outputs": [],
   "source": [
    "res.all_colnames"
   ]
  },
  {
   "cell_type": "markdown",
   "id": "ddba88bf",
   "metadata": {},
   "source": [
    "this is just a surface level intro to sunpy, look into the additional resources to learn more (how to query with multiple instruments, download data, work with the result, etc)"
   ]
  },
  {
   "cell_type": "markdown",
   "id": "53c9d1c2",
   "metadata": {},
   "source": [
    "## coordinates!\n",
    "\n",
    "plotting spacecraft in perihelion"
   ]
  },
  {
   "cell_type": "code",
   "execution_count": null,
   "id": "e117ecc6",
   "metadata": {},
   "outputs": [],
   "source": [
    "import numpy as np\n",
    "from matplotlib.pyplot import Figure\n",
    "from reproject import reproject_interp\n",
    "\n",
    "from astropy.coordinates import SkyCoord\n",
    "from astropy.wcs import WCS\n",
    "\n",
    "from sunpy.coordinates import get_horizons_coord\n",
    "from sunpy.time import parse_time"
   ]
  },
  {
   "cell_type": "code",
   "execution_count": null,
   "id": "8f85ecf3",
   "metadata": {},
   "outputs": [],
   "source": [
    "perihelion_time = parse_time('2020-06-07 08:23')\n",
    "perihelion_sequence = perihelion_time + np.arange(-14, 15)*u.day    # creates 4 weeks with perihelion in the middle"
   ]
  },
  {
   "cell_type": "code",
   "execution_count": null,
   "id": "8c031bba",
   "metadata": {},
   "outputs": [],
   "source": [
    "# locations of Parker Solar Probe and SDO and put into heliocentric inertial (HCI) coords\n",
    "psp_coord = get_horizons_coord('Parker Solar Probe', perihelion_sequence).___\n",
    "sdo_coord = get_horizons_coord('SDO', ___).heliocentricinertial"
   ]
  },
  {
   "cell_type": "code",
   "execution_count": null,
   "id": "57747972",
   "metadata": {},
   "outputs": [],
   "source": [
    "# make HCI plot\n",
    "fig = Figure(dpi=150)\n",
    "ax = fig.add_subplot(projection='polar')\n",
    "\n",
    "ax.plot(psp_coord.lon.to('rad'), psp_coord.distance, '.', markersize=3, label='PSP')\n",
    "ax.plot(sdo_coord.lon.to('rad'), sdo_coord.distance, '.', markersize=3, label='SDO')\n",
    "\n",
    "ax.legend(loc='lower right')\n",
    "ax.set_title('Positions in Heliocentric Inertial (HCI)')\n"
   ]
  },
  {
   "cell_type": "code",
   "execution_count": null,
   "id": "c4630c01",
   "metadata": {},
   "outputs": [],
   "source": [
    "fig"
   ]
  },
  {
   "cell_type": "markdown",
   "id": "3149d791",
   "metadata": {},
   "source": [
    "again, this is just a intro to the capailities of sunpy. please take a look at the addtl resources to learn more about different coordinate systems, map projections, and tracking solar features as they rotate."
   ]
  },
  {
   "cell_type": "markdown",
   "id": "a2d6284b",
   "metadata": {},
   "source": [
    "tutorial adapted from [AAS 2021 workshop](https://github.com/sunpy/aas-2021-workshop/blob/main/01-Search-and-Download-Solar-Data.ipynb) and [AAS 2021 workshop](https://github.com/sunpy/aas-2021-workshop/blob/main/04-Fabulous-and-Powerful-SunPy-Coordinates.ipynb)"
   ]
  }
 ],
 "metadata": {
  "kernelspec": {
   "display_name": "base",
   "language": "python",
   "name": "python3"
  },
  "language_info": {
   "codemirror_mode": {
    "name": "ipython",
    "version": 3
   },
   "file_extension": ".py",
   "mimetype": "text/x-python",
   "name": "python",
   "nbconvert_exporter": "python",
   "pygments_lexer": "ipython3",
   "version": "3.12.2"
  }
 },
 "nbformat": 4,
 "nbformat_minor": 5
}
