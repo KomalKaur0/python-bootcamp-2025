{
 "cells": [
  {
   "cell_type": "code",
   "execution_count": null,
   "id": "74faee9f",
   "metadata": {},
   "outputs": [],
   "source": [
    "# list of planets\n",
    "planets = ['mercury', 'venus', 'earth', 'mars', 'jupiter', 'saturn', 'uranus', 'neptune', 'pluto']\n"
   ]
  },
  {
   "cell_type": "code",
   "execution_count": 5,
   "id": "1dd20a88",
   "metadata": {},
   "outputs": [
    {
     "name": "stdout",
     "output_type": "stream",
     "text": [
      "not mars\n",
      "not mars\n",
      "not mars\n",
      "found mars\n",
      "not mars\n",
      "not mars\n",
      "not mars\n",
      "not mars\n",
      "not mars\n"
     ]
    }
   ],
   "source": [
    "# for loop to look through list\n",
    "for i in planets:\n",
    "    # check for mars\n",
    "    if i == 'mars':\n",
    "        print('found mars')\n",
    "    else:\n",
    "        print('not mars')\n"
   ]
  },
  {
   "cell_type": "code",
   "execution_count": 6,
   "id": "320405d9",
   "metadata": {},
   "outputs": [],
   "source": [
    "def find_mars(list):\n",
    "    mars_bool = False\n",
    "    for i in list:\n",
    "        # check for mars\n",
    "        if i == 'mars':\n",
    "            mars_bool = True \n",
    "    return mars_bool\n"
   ]
  },
  {
   "cell_type": "code",
   "execution_count": 7,
   "id": "8d0e6e37",
   "metadata": {},
   "outputs": [
    {
     "data": {
      "text/plain": [
       "True"
      ]
     },
     "execution_count": 7,
     "metadata": {},
     "output_type": "execute_result"
    }
   ],
   "source": [
    "find_mars(planets)\n"
   ]
  },
  {
   "cell_type": "code",
   "execution_count": null,
   "id": "a927e035",
   "metadata": {},
   "outputs": [],
   "source": []
  }
 ],
 "metadata": {
  "kernelspec": {
   "display_name": "base",
   "language": "python",
   "name": "python3"
  },
  "language_info": {
   "codemirror_mode": {
    "name": "ipython",
    "version": 3
   },
   "file_extension": ".py",
   "mimetype": "text/x-python",
   "name": "python",
   "nbconvert_exporter": "python",
   "pygments_lexer": "ipython3",
   "version": "3.12.2"
  }
 },
 "nbformat": 4,
 "nbformat_minor": 5
}
