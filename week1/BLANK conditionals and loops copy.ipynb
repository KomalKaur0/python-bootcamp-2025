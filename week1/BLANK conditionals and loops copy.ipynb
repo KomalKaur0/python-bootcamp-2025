{
 "cells": [
  {
   "cell_type": "markdown",
   "id": "17974fd4",
   "metadata": {},
   "source": [
    "here are the [slides](https://drive.google.com/file/d/1pDHIRiVzLYB2-6ieoozSd871u5cuh76c/view?usp=sharing) for your reference"
   ]
  },
  {
   "cell_type": "markdown",
   "id": "10fc2d57",
   "metadata": {},
   "source": [
    "# conditionals demo"
   ]
  },
  {
   "cell_type": "markdown",
   "id": "d0d46206",
   "metadata": {},
   "source": [
    "read the following code and answer the question below"
   ]
  },
  {
   "cell_type": "raw",
   "id": "84871bfa",
   "metadata": {},
   "source": [
    "if star_distance > 75:\n",
    "    print('this star is pretty far')\n",
    "    if star_mass > 10:\n",
    "        print('this is a pretty heavy star')\n",
    "    elif star_mass > 1:\n",
    "        print('this star is heavier than the sun')\n",
    "    else:\n",
    "        print('this is a pretty small star')\n",
    "elif star_distance < 75 and star_distance > 50:\n",
    "    print('this star is not that far')\n",
    "else:\n",
    "    print('pretty close star')"
   ]
  },
  {
   "cell_type": "markdown",
   "id": "c033028b",
   "metadata": {},
   "source": [
    "what will the program print on the following inputs? enter your reponse in the cell below.\n",
    "\n",
    "star_mass = 1.91\n",
    "\n",
    "star_distance = 54.7"
   ]
  },
  {
   "cell_type": "markdown",
   "id": "ba918fc8",
   "metadata": {},
   "source": [
    "your response here: "
   ]
  },
  {
   "cell_type": "markdown",
   "id": "f00d834c",
   "metadata": {},
   "source": [
    "fun fact: this star is [Cath](https://en.wikipedia.org/wiki/Beta_Cassiopeiae)!"
   ]
  },
  {
   "cell_type": "markdown",
   "id": "eded2e17",
   "metadata": {},
   "source": [
    "# loops demo"
   ]
  },
  {
   "cell_type": "markdown",
   "id": "3b76e7f3",
   "metadata": {},
   "source": [
    "for this exercise, i have provided you with two datasets. the first is a set of all elements on the periodic table. the second is a set of elements found in the sun. write a program in the code cell below that will filter the periodic table data and print out the elements from that set that are found in the sun (ie: in the other set). do not peek at the sun data and hard-code your solution."
   ]
  },
  {
   "cell_type": "markdown",
   "id": "c7c9687b",
   "metadata": {},
   "source": [
    "you will need to download the datasets from the github and paste their pathnames into the spaces indicated in the code cell EXACTLY as they appear in your computer (otherwise the notebook won't be able to find them). i have included the astropy.Table import to read in the data. don't worry about this right now, we will go over it in more detail soon."
   ]
  },
  {
   "cell_type": "code",
   "execution_count": null,
   "id": "7c42b83b",
   "metadata": {},
   "outputs": [],
   "source": [
    "from astropy.table import Table\n",
    "\n",
    "periodic_table_pathname = ''     # paste the pathname for the periodic table dataset into the empty string\n",
    "sun_data_pathname = ''     # paste the pathname for the sun data dataset into the empty string\n",
    "\n",
    "periodic_table = Table.read(periodic_table_pathname, format='ascii', header_start=0)['Element']\n",
    "sun_data = Table.read(sun_data_pathname, format='ascii', header_start=0).colnames\n",
    "\n",
    "# write your code below (pls don't just print out the sun data)\n",
    "\n",
    "for i in periodic_table:\n",
    "    if i in sun_data:\n",
    "        print(i)\n",
    "        \n",
    "for i in sun_data:\n",
    "    if i in periodic_table:\n",
    "        print(i)\n"
   ]
  },
  {
   "cell_type": "markdown",
   "id": "547c821d",
   "metadata": {},
   "source": [
    "guide created by Komal Kaur"
   ]
  }
 ],
 "metadata": {
  "kernelspec": {
   "display_name": "base",
   "language": "python",
   "name": "python3"
  },
  "language_info": {
   "codemirror_mode": {
    "name": "ipython",
    "version": 3
   },
   "file_extension": ".py",
   "mimetype": "text/x-python",
   "name": "python",
   "nbconvert_exporter": "python",
   "pygments_lexer": "ipython3",
   "version": "3.12.2"
  }
 },
 "nbformat": 4,
 "nbformat_minor": 5
}
